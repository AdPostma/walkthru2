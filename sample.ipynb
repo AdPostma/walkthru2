{
 "cells": [
  {
   "cell_type": "code",
   "execution_count": null,
   "id": "d6e814d5-015f-4517-ab14-814cfc57b8d1",
   "metadata": {},
   "outputs": [],
   "source": []
  },
  {
   "cell_type": "markdown",
   "id": "955090a1-b038-484d-9f3e-1459e66ef800",
   "metadata": {},
   "source": [
    "## Walkthrue sample notebook"
   ]
  },
  {
   "cell_type": "markdown",
   "id": "0e5952c8-9ffc-47aa-92f6-2ae058cea180",
   "metadata": {},
   "source": [
    "Here is how I calculate '1+1':"
   ]
  },
  {
   "cell_type": "code",
   "execution_count": null,
   "id": "3b889973-c78f-4599-a127-5ea6a729c7f2",
   "metadata": {},
   "outputs": [],
   "source": [
    "1+1"
   ]
  },
  {
   "cell_type": "code",
   "execution_count": 2,
   "id": "02aa4a8f-b318-4af2-a74c-6c23fb3a412e",
   "metadata": {},
   "outputs": [],
   "source": [
    "from numpy import *"
   ]
  },
  {
   "cell_type": "code",
   "execution_count": 4,
   "id": "c46ca494-793d-4305-9788-edae5f23147b",
   "metadata": {},
   "outputs": [
    {
     "data": {
      "text/plain": [
       "array([0.84147098, 1.        ])"
      ]
     },
     "execution_count": 4,
     "metadata": {},
     "output_type": "execute_result"
    }
   ],
   "source": [
    "a=array([1.0,pi/2])\n",
    "sin(a)"
   ]
  },
  {
   "cell_type": "code",
   "execution_count": null,
   "id": "878d7de1-c0bf-48ad-a3e2-dc40208a1ce6",
   "metadata": {},
   "outputs": [],
   "source": []
  }
 ],
 "metadata": {
  "kernelspec": {
   "display_name": "Python 3 (ipykernel)",
   "language": "python",
   "name": "python3"
  },
  "language_info": {
   "codemirror_mode": {
    "name": "ipython",
    "version": 3
   },
   "file_extension": ".py",
   "mimetype": "text/x-python",
   "name": "python",
   "nbconvert_exporter": "python",
   "pygments_lexer": "ipython3",
   "version": "3.9.10"
  }
 },
 "nbformat": 4,
 "nbformat_minor": 5
}
